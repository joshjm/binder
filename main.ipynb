{
 "metadata": {
  "language_info": {
   "codemirror_mode": {
    "name": "ipython",
    "version": 3
   },
   "file_extension": ".py",
   "mimetype": "text/x-python",
   "name": "python",
   "nbconvert_exporter": "python",
   "pygments_lexer": "ipython3",
   "version": "3.9"
  },
  "orig_nbformat": 2,
  "kernelspec": {
   "name": "pythonjvsc74a57bd00076bad9cdc97f36c76704d4b47af166f1b8d077c2637f19d8ee2c22ee368f8b",
   "display_name": "Python 3.9.1 64-bit ('fastai': conda)"
  },
  "metadata": {
   "interpreter": {
    "hash": "0076bad9cdc97f36c76704d4b47af166f1b8d077c2637f19d8ee2c22ee368f8b"
   }
  }
 },
 "nbformat": 4,
 "nbformat_minor": 2,
 "cells": [
  {
   "cell_type": "code",
   "execution_count": 1,
   "metadata": {},
   "outputs": [
    {
     "output_type": "execute_result",
     "data": {
      "text/plain": [
       "4"
      ]
     },
     "metadata": {},
     "execution_count": 1
    }
   ],
   "source": [
    "2+2"
   ]
  }
 ]
}